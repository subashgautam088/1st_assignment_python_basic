{
 "cells": [
  {
   "cell_type": "markdown",
   "id": "59a35619-c9d1-4e9a-be15-5009949ee43d",
   "metadata": {},
   "source": [
    "## Topic: Python Basics Variables Answers"
   ]
  },
  {
   "cell_type": "code",
   "execution_count": 1,
   "id": "159060b9-a22e-4eb3-8e50-ab35bea108af",
   "metadata": {},
   "outputs": [
    {
     "data": {
      "text/plain": [
       "(5, 4)"
      ]
     },
     "execution_count": 1,
     "metadata": {},
     "output_type": "execute_result"
    }
   ],
   "source": [
    "x=4\n",
    "y=5\n",
    "x,y = y,x\n",
    "# Now 'x' will hold the 5 and \"y\" will hold 4\n",
    "x,y"
   ]
  },
  {
   "cell_type": "code",
   "execution_count": 2,
   "id": "b325a55d-6b2b-44bf-a5a4-38fdd32b1735",
   "metadata": {},
   "outputs": [
    {
     "name": "stdin",
     "output_type": "stream",
     "text": [
      "Enter the length of rectangle:  8\n",
      "Enter the width of rectangle:  4\n"
     ]
    },
    {
     "data": {
      "text/plain": [
       "32.0"
      ]
     },
     "execution_count": 2,
     "metadata": {},
     "output_type": "execute_result"
    }
   ],
   "source": [
    "##### Taking length and width of rectangle from user\n",
    "length =float(input(\"Enter the length of rectangle: \"))\n",
    "width=float(input(\"Enter the width of rectangle: \"))\n",
    "#Now calculate the area of the rectangle\n",
    "area=length*width\n",
    "#Display the area\n",
    "area"
   ]
  },
  {
   "cell_type": "code",
   "execution_count": 4,
   "id": "8e4879f0-f156-4b15-85d1-ba76fbf3c9a5",
   "metadata": {},
   "outputs": [
    {
     "name": "stdin",
     "output_type": "stream",
     "text": [
      "Enter the temperature in celsius:  37.6\n"
     ]
    },
    {
     "data": {
      "text/plain": [
       "99.68"
      ]
     },
     "execution_count": 4,
     "metadata": {},
     "output_type": "execute_result"
    }
   ],
   "source": [
    "#Taking temperature from the user in celsius degree\n",
    "temperature_1=float(input(\"Enter the temperature in celsius: \"))\n",
    "#Convert celsius into fahrenheit degree\n",
    "temperature_2=(temperature_1*9/5) + 32\n",
    "#Now dispalying the temperature in fahrenheit degree\n",
    "temperature_2"
   ]
  },
  {
   "cell_type": "markdown",
   "id": "005485a1-1108-410c-8daa-064074c636e9",
   "metadata": {},
   "source": [
    "Topic: String Based Questions Answers "
   ]
  },
  {
   "cell_type": "code",
   "execution_count": 6,
   "id": "b78292ca-d381-42aa-b6d5-98139fc21f99",
   "metadata": {},
   "outputs": [
    {
     "name": "stdin",
     "output_type": "stream",
     "text": [
      "Enter a string:  pwskills full stack data science pro course\n"
     ]
    },
    {
     "data": {
      "text/plain": [
       "43"
      ]
     },
     "execution_count": 6,
     "metadata": {},
     "output_type": "execute_result"
    }
   ],
   "source": [
    "#Taking input from the user as a string\n",
    "string=input(\"Enter a string: \")\n",
    "#Print the length of string\n",
    "len(string)"
   ]
  },
  {
   "cell_type": "code",
   "execution_count": 7,
   "id": "a0e5b68c-a0b0-4ce3-8c02-9bb1a5056900",
   "metadata": {},
   "outputs": [
    {
     "name": "stdin",
     "output_type": "stream",
     "text": [
      "Enter a sentence:  Hey I am new here please help me or guide me to solve this course\n"
     ]
    },
    {
     "data": {
      "text/plain": [
       "23"
      ]
     },
     "execution_count": 7,
     "metadata": {},
     "output_type": "execute_result"
    }
   ],
   "source": [
    "#Taking a sentence from the user\n",
    "sentence = input(\"Enter a sentence: \")\n",
    "#Declare a variable for \n",
    "vowel_counting = 0\n",
    "vowels = set(\"aeiouAEIOU\")\n",
    "#Using for loop for iteration of character from the sentence\n",
    "for character in sentence:\n",
    "    #Check if character is vowel\n",
    "    if character in vowels:\n",
    "        vowel_counting = vowel_counting + 1\n",
    "#Print The number of vowels\n",
    "vowel_counting"
   ]
  },
  {
   "cell_type": "code",
   "execution_count": 9,
   "id": "1f841ddf-c2a7-4297-a813-ac314c341326",
   "metadata": {},
   "outputs": [
    {
     "data": {
      "text/plain": [
       "'sllikswp'"
      ]
     },
     "execution_count": 9,
     "metadata": {},
     "output_type": "execute_result"
    }
   ],
   "source": [
    "#Show a string\n",
    "string2=\"pwskills\"\n",
    "# Reversed the string\n",
    "reversed_string=string2[::-1]\n",
    "#Above code start from last and end at 1st position due to negative indexing\n",
    "reversed_string"
   ]
  },
  {
   "cell_type": "code",
   "execution_count": 14,
   "id": "4591770b-324f-4d6d-9623-75d3a6a0c5ca",
   "metadata": {},
   "outputs": [
    {
     "name": "stdin",
     "output_type": "stream",
     "text": [
      "Please enter a palindrome string word in lowercase:  radar\n"
     ]
    },
    {
     "data": {
      "text/plain": [
       "'radar'"
      ]
     },
     "execution_count": 14,
     "metadata": {},
     "output_type": "execute_result"
    }
   ],
   "source": [
    "#Take input from the user as string in lowercase\n",
    "user_input=input(\"Please enter a palindrome string word in lowercase: \")\n",
    "palindrome_string=user_input[::-1]\n",
    "palindrome_string"
   ]
  },
  {
   "cell_type": "code",
   "execution_count": 13,
   "id": "84ad50ff-1f5d-43c4-8b61-febe045ab2a2",
   "metadata": {},
   "outputs": [
    {
     "name": "stdin",
     "output_type": "stream",
     "text": [
      "Please enter a string :  hey i am here.\n"
     ]
    },
    {
     "data": {
      "text/plain": [
       "'heyiamhere.'"
      ]
     },
     "execution_count": 13,
     "metadata": {},
     "output_type": "execute_result"
    }
   ],
   "source": [
    "#Take the input from the user as string\n",
    "user_string=input(\"Please enter a string : \")\n",
    "#Remove the spaces from the string by using replace() function\n",
    "new_string=user_string.replace(\" \",\"\")\n",
    "new_string"
   ]
  }
 ],
 "metadata": {
  "kernelspec": {
   "display_name": "Python 3 (ipykernel)",
   "language": "python",
   "name": "python3"
  },
  "language_info": {
   "codemirror_mode": {
    "name": "ipython",
    "version": 3
   },
   "file_extension": ".py",
   "mimetype": "text/x-python",
   "name": "python",
   "nbconvert_exporter": "python",
   "pygments_lexer": "ipython3",
   "version": "3.10.8"
  }
 },
 "nbformat": 4,
 "nbformat_minor": 5
}
